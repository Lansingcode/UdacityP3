{
 "cells": [
  {
   "cell_type": "markdown",
   "metadata": {},
   "source": [
    "# 优达学城P3（安然公司邮件数据分析）"
   ]
  },
  {
   "cell_type": "markdown",
   "metadata": {},
   "source": [
    "## 1 数据概况"
   ]
  },
  {
   "cell_type": "markdown",
   "metadata": {},
   "source": [
    "### 1.1 载入数据"
   ]
  },
  {
   "cell_type": "code",
   "execution_count": 44,
   "metadata": {
    "collapsed": false
   },
   "outputs": [
    {
     "ename": "IOError",
     "evalue": "[Errno 2] No such file or directory: 'final_project_dataset.pkl'",
     "output_type": "error",
     "traceback": [
      "\u001b[0;31m---------------------------------------------------------------------------\u001b[0m",
      "\u001b[0;31mIOError\u001b[0m                                   Traceback (most recent call last)",
      "\u001b[0;32m<ipython-input-44-26aeca803341>\u001b[0m in \u001b[0;36m<module>\u001b[0;34m()\u001b[0m\n\u001b[1;32m     11\u001b[0m \u001b[1;32mimport\u001b[0m \u001b[0mmatplotlib\u001b[0m\u001b[1;33m.\u001b[0m\u001b[0mpyplot\u001b[0m \u001b[1;32mas\u001b[0m \u001b[0mplt\u001b[0m\u001b[1;33m\u001b[0m\u001b[0m\n\u001b[1;32m     12\u001b[0m \u001b[1;33m\u001b[0m\u001b[0m\n\u001b[0;32m---> 13\u001b[0;31m \u001b[1;32mwith\u001b[0m \u001b[0mopen\u001b[0m\u001b[1;33m(\u001b[0m\u001b[1;34m\"final_project_dataset.pkl\"\u001b[0m\u001b[1;33m,\u001b[0m \u001b[1;34m\"r\"\u001b[0m\u001b[1;33m)\u001b[0m \u001b[1;32mas\u001b[0m \u001b[0mdata_file\u001b[0m\u001b[1;33m:\u001b[0m\u001b[1;33m\u001b[0m\u001b[0m\n\u001b[0m\u001b[1;32m     14\u001b[0m     \u001b[0mdata_dict\u001b[0m \u001b[1;33m=\u001b[0m \u001b[0mpickle\u001b[0m\u001b[1;33m.\u001b[0m\u001b[0mload\u001b[0m\u001b[1;33m(\u001b[0m\u001b[0mdata_file\u001b[0m\u001b[1;33m)\u001b[0m\u001b[1;33m\u001b[0m\u001b[0m\n\u001b[1;32m     15\u001b[0m \u001b[1;33m\u001b[0m\u001b[0m\n",
      "\u001b[0;31mIOError\u001b[0m: [Errno 2] No such file or directory: 'final_project_dataset.pkl'"
     ]
    }
   ],
   "source": [
    "#!/usr/bin/python\n",
    "# -*- coding=utf-8 -*-\n",
    "import sys\n",
    "import pickle\n",
    "\n",
    "sys.path.append(\"../tools/\")\n",
    "\n",
    "from feature_format import featureFormat, targetFeatureSplit\n",
    "from tester import dump_classifier_and_data\n",
    "import pandas as pd\n",
    "import matplotlib.pyplot as plt\n",
    "\n",
    "with open(\"final_project_dataset.pkl\", \"r\") as data_file:\n",
    "    data_dict = pickle.load(data_file)\n",
    "\n",
    "features = ['poi', 'salary', 'deferral_payments', 'total_payments', 'loan_advances', 'bonus',\n",
    "            'restricted_stock_deferred', 'deferred_income', 'total_stock_value', 'expenses', 'exercised_stock_options',\n",
    "            'other', 'long_term_incentive', 'restricted_stock', 'director_fees', 'to_messages','email_address',\n",
    "            'from_poi_to_this_person', 'from_messages', 'from_this_person_to_poi', 'shared_receipt_with_poi']"
   ]
  },
  {
   "cell_type": "markdown",
   "metadata": {},
   "source": [
    "### 1.2 观察空值\n",
    "将原始数据的dict格式转化为dataframe格式，获取每个变量空值个数"
   ]
  },
  {
   "cell_type": "code",
   "execution_count": 2,
   "metadata": {
    "collapsed": false
   },
   "outputs": [
    {
     "name": "stdout",
     "output_type": "stream",
     "text": [
      "There are 51 null values in salary\n",
      "There are 107 null values in deferral_payments\n",
      "There are 21 null values in total_payments\n",
      "There are 142 null values in loan_advances\n",
      "There are 64 null values in bonus\n",
      "There are 128 null values in restricted_stock_deferred\n",
      "There are 97 null values in deferred_income\n",
      "There are 20 null values in total_stock_value\n",
      "There are 51 null values in expenses\n",
      "There are 44 null values in exercised_stock_options\n",
      "There are 53 null values in other\n",
      "There are 80 null values in long_term_incentive\n",
      "There are 36 null values in restricted_stock\n",
      "There are 129 null values in director_fees\n",
      "There are 60 null values in to_messages\n",
      "There are 35 null values in email_address\n",
      "There are 60 null values in from_poi_to_this_person\n",
      "There are 60 null values in from_messages\n",
      "There are 60 null values in from_this_person_to_poi\n",
      "There are 60 null values in shared_receipt_with_poi\n"
     ]
    }
   ],
   "source": [
    "data_df = pd.DataFrame(data_dict).T\n",
    "data_df = data_df[features]\n",
    "for f in features:\n",
    "    if 'NaN' in data_df[f].unique():\n",
    "        print 'There are %s null values in %s' % (str(data_df[f].value_counts()['NaN']), f)"
   ]
  },
  {
   "cell_type": "markdown",
   "metadata": {},
   "source": [
    "loan_advances、restricted_stock_deferred、director_fees三个变量空值较多，可以忽略；email_address这个变量为字符型变量，无法进行计算，也可忽略。将其他变量的空值用0替换。"
   ]
  },
  {
   "cell_type": "code",
   "execution_count": 3,
   "metadata": {
    "collapsed": true
   },
   "outputs": [],
   "source": [
    "features = ['poi', 'salary', 'deferral_payments', 'total_payments', 'bonus', 'deferred_income', 'total_stock_value', 'expenses', \n",
    "            'exercised_stock_options','other', 'long_term_incentive', 'restricted_stock', 'to_messages',\n",
    "            'from_poi_to_this_person', 'from_messages', 'from_this_person_to_poi', 'shared_receipt_with_poi']\n",
    "data_df=data_df[features]\n",
    "data_df.replace({'NaN': 0}, inplace=True)"
   ]
  },
  {
   "cell_type": "markdown",
   "metadata": {},
   "source": [
    "## 2 去除异常值"
   ]
  },
  {
   "cell_type": "code",
   "execution_count": 4,
   "metadata": {
    "collapsed": false
   },
   "outputs": [
    {
     "data": {
      "image/png": "[encoded data removed]",
      "text/plain": [
       "<matplotlib.figure.Figure at 0x587f828>"
      ]
     },
     "metadata": {},
     "output_type": "display_data"
    }
   ],
   "source": [
    "plt.plot(list(data_df['salary'].values))\n",
    "data_df = data_df[data_df['salary'] < 2e7]\n",
    "plt.plot(list(data_df['salary'].values))\n",
    "plt.show()"
   ]
  },
  {
   "cell_type": "code",
   "execution_count": 5,
   "metadata": {
    "collapsed": false
   },
   "outputs": [
    {
     "data": {
      "image/png": "[encoded data removed]",
      "text/plain": [
       "<matplotlib.figure.Figure at 0x587f240>"
      ]
     },
     "metadata": {},
     "output_type": "display_data"
    }
   ],
   "source": [
    "plt.plot(list(data_df['total_payments'].values))\n",
    "data_df = data_df[data_df['total_payments'] < 1e8]\n",
    "plt.plot(list(data_df['total_payments'].values))\n",
    "plt.show()"
   ]
  },
  {
   "cell_type": "markdown",
   "metadata": {},
   "source": [
    "变量分布"
   ]
  },
  {
   "cell_type": "code",
   "execution_count": 29,
   "metadata": {
    "collapsed": false
   },
   "outputs": [
    {
     "data": {
      "image/png": "[encoded data removed]",
      "text/plain": [
       "<matplotlib.figure.Figure at 0x1c95da58>"
      ]
     },
     "metadata": {},
     "output_type": "display_data"
    },
    {
     "data": {
      "image/png": "[encoded data removed]",
      "text/plain": [
       "<matplotlib.figure.Figure at 0x1c5350b8>"
      ]
     },
     "metadata": {},
     "output_type": "display_data"
    }
   ],
   "source": [
    "import numpy as np\n",
    "import matplotlib.pyplot as plt\n",
    "def make_hist(data,feature_name,bins):\n",
    "    min_data=data[feature_name].values.min()\n",
    "    max_data=data_df[feature_name].values.max()\n",
    "    hist,bin_edges=np.histogram(data[feature_name].values,bins=np.linspace(min_data,max_data,bin_num))\n",
    "    plt.bar(bin_edges[:-1],hist,width=float(max_data-min_data)/bins)\n",
    "    plt.xlabel(feature_name)\n",
    "    plt.ylabel('Count')\n",
    "    plt.show()\n",
    "make_hist(data_df,'salary',10)\n",
    "make_hist(data_df,'deferred_income',10)"
   ]
  },
  {
   "cell_type": "markdown",
   "metadata": {},
   "source": [
    "## 3 设计新特征"
   ]
  },
  {
   "cell_type": "code",
   "execution_count": 43,
   "metadata": {
    "collapsed": false
   },
   "outputs": [
    {
     "name": "stdout",
     "output_type": "stream",
     "text": [
      "     salary_scalered  total_payments_scalered  bonus_scalered  \\\n",
      "0           0.181735                 0.259930        0.521875   \n",
      "1           0.000000                 0.010576        0.000000   \n",
      "2           0.000429                 0.053105        0.000000   \n",
      "3           0.240360                 0.326581        0.150000   \n",
      "4           0.215675                 0.047975        0.050000   \n",
      "5           0.072727                 0.049856        0.000000   \n",
      "6           0.208169                 0.056170        0.087500   \n",
      "7           0.192574                 0.318888        0.656250   \n",
      "8           0.000000                 0.005941        0.000000   \n",
      "9           0.194898                 0.013243        0.000000   \n",
      "10          0.169107                 0.035870        0.031250   \n",
      "11          0.000000                 0.895885        0.000000   \n",
      "12          0.192237                 0.118684        0.125000   \n",
      "13          0.223662                 0.116785        0.106250   \n",
      "14          0.000000                 0.000074        0.000000   \n",
      "15          0.250708                 0.154736        0.168750   \n",
      "16          0.000000                 0.002857        0.000000   \n",
      "17          0.223186                 0.061129        0.062500   \n",
      "18          0.235333                 0.073704        0.093750   \n",
      "19          0.297452                 0.136542        0.112500   \n",
      "20          0.216142                 0.095018        0.156250   \n",
      "21          0.235597                 0.027680        0.037500   \n",
      "22          0.373621                 0.108318        0.125000   \n",
      "23          0.000000                 0.000000        0.000000   \n",
      "24          0.000000                 0.000000        0.000000   \n",
      "25          0.000000                 0.000000        0.000000   \n",
      "26          0.259653                 0.086384        0.150000   \n",
      "27          0.000000                 0.000000        0.000000   \n",
      "28          0.282822                 0.063840        0.100000   \n",
      "29          0.166387                 0.046831        0.040625   \n",
      "..               ...                      ...             ...   \n",
      "114         0.000000                 0.000000        0.000000   \n",
      "115         0.273663                 0.176131        0.250000   \n",
      "116         0.242136                 0.061298        0.081250   \n",
      "117         0.223302                 0.091379        0.075000   \n",
      "118         0.190634                 0.116150        0.025000   \n",
      "119         0.000000                 0.000000        0.000000   \n",
      "120         0.385851                 0.251290        0.187500   \n",
      "121         1.000000                 0.503272        0.700000   \n",
      "122         0.215523                 0.064459        0.062500   \n",
      "123         0.146482                 0.057925        0.012500   \n",
      "124         0.231707                 0.089556        0.087500   \n",
      "125         0.238661                 0.063333        0.075000   \n",
      "126         0.000000                 0.020988        0.000000   \n",
      "127         0.199857                 0.052830        0.000000   \n",
      "128         0.222575                 0.023150        0.037500   \n",
      "129         0.259696                 0.065524        0.098594   \n",
      "130         0.000000                 0.013253        0.000000   \n",
      "131         0.000000                 0.012350        0.000000   \n",
      "132         0.321339                 0.104262        0.106250   \n",
      "133         0.000000                 0.005067        0.000000   \n",
      "134         0.233965                 0.059956        0.040625   \n",
      "135         0.057362                 0.044175        0.000000   \n",
      "136         0.000000                 0.000000        0.000000   \n",
      "137         0.459267                 0.271124        0.375000   \n",
      "138         0.285751                 0.112120        0.056250   \n",
      "139         0.000000                 0.004926        0.000000   \n",
      "140         0.000000                 0.010989        0.000000   \n",
      "141         0.000000                 0.000000        0.000000   \n",
      "142         0.142544                 0.020884        0.000000   \n",
      "143         0.000000                 0.003194        0.000000   \n",
      "\n",
      "     deferred_income_scalered  \n",
      "0                    0.120800  \n",
      "1                    1.000000  \n",
      "2                    0.998544  \n",
      "3                    0.604480  \n",
      "4                    0.942460  \n",
      "5                    1.000000  \n",
      "6                    1.000000  \n",
      "7                    0.333854  \n",
      "8                    1.000000  \n",
      "9                    1.000000  \n",
      "10                   0.861370  \n",
      "11                   1.000000  \n",
      "12                   1.000000  \n",
      "13                   1.000000  \n",
      "14                   0.967531  \n",
      "15                   0.999762  \n",
      "16                   1.000000  \n",
      "17                   1.000000  \n",
      "18                   0.978598  \n",
      "19                   0.801716  \n",
      "20                   0.925094  \n",
      "21                   0.954402  \n",
      "22                   0.932941  \n",
      "23                   0.971811  \n",
      "24                   1.000000  \n",
      "25                   1.000000  \n",
      "26                   0.958891  \n",
      "27                   1.000000  \n",
      "28                   0.988229  \n",
      "29                   1.000000  \n",
      "..                        ...  \n",
      "114                  1.000000  \n",
      "115                  1.000000  \n",
      "116                  1.000000  \n",
      "117                  1.000000  \n",
      "118                  0.998811  \n",
      "119                  1.000000  \n",
      "120                  1.000000  \n",
      "121                  1.000000  \n",
      "122                  1.000000  \n",
      "123                  1.000000  \n",
      "124                  1.000000  \n",
      "125                  1.000000  \n",
      "126                  1.000000  \n",
      "127                  1.000000  \n",
      "128                  0.835920  \n",
      "129                  1.000000  \n",
      "130                  0.989537  \n",
      "131                  1.000000  \n",
      "132                  1.000000  \n",
      "133                  1.000000  \n",
      "134                  0.833544  \n",
      "135                  0.996918  \n",
      "136                  1.000000  \n",
      "137                  1.000000  \n",
      "138                  1.000000  \n",
      "139                  0.992866  \n",
      "140                  1.000000  \n",
      "141                  1.000000  \n",
      "142                  1.000000  \n",
      "143                  1.000000  \n",
      "\n",
      "[144 rows x 4 columns]\n"
     ]
    },
    {
     "name": "stderr",
     "output_type": "stream",
     "text": [
      "C:\\ProgramData\\Anaconda2\\lib\\site-packages\\sklearn\\preprocessing\\data.py:321: DeprecationWarning: Passing 1d arrays as data is deprecated in 0.17 and will raise ValueError in 0.19. Reshape your data either using X.reshape(-1, 1) if your data has a single feature or X.reshape(1, -1) if it contains a single sample.\n",
      "  warnings.warn(DEPRECATION_MSG_1D, DeprecationWarning)\n",
      "C:\\ProgramData\\Anaconda2\\lib\\site-packages\\sklearn\\preprocessing\\data.py:356: DeprecationWarning: Passing 1d arrays as data is deprecated in 0.17 and will raise ValueError in 0.19. Reshape your data either using X.reshape(-1, 1) if your data has a single feature or X.reshape(1, -1) if it contains a single sample.\n",
      "  warnings.warn(DEPRECATION_MSG_1D, DeprecationWarning)\n",
      "C:\\ProgramData\\Anaconda2\\lib\\site-packages\\sklearn\\preprocessing\\data.py:321: DeprecationWarning: Passing 1d arrays as data is deprecated in 0.17 and will raise ValueError in 0.19. Reshape your data either using X.reshape(-1, 1) if your data has a single feature or X.reshape(1, -1) if it contains a single sample.\n",
      "  warnings.warn(DEPRECATION_MSG_1D, DeprecationWarning)\n",
      "C:\\ProgramData\\Anaconda2\\lib\\site-packages\\sklearn\\preprocessing\\data.py:356: DeprecationWarning: Passing 1d arrays as data is deprecated in 0.17 and will raise ValueError in 0.19. Reshape your data either using X.reshape(-1, 1) if your data has a single feature or X.reshape(1, -1) if it contains a single sample.\n",
      "  warnings.warn(DEPRECATION_MSG_1D, DeprecationWarning)\n",
      "C:\\ProgramData\\Anaconda2\\lib\\site-packages\\sklearn\\preprocessing\\data.py:321: DeprecationWarning: Passing 1d arrays as data is deprecated in 0.17 and will raise ValueError in 0.19. Reshape your data either using X.reshape(-1, 1) if your data has a single feature or X.reshape(1, -1) if it contains a single sample.\n",
      "  warnings.warn(DEPRECATION_MSG_1D, DeprecationWarning)\n",
      "C:\\ProgramData\\Anaconda2\\lib\\site-packages\\sklearn\\preprocessing\\data.py:356: DeprecationWarning: Passing 1d arrays as data is deprecated in 0.17 and will raise ValueError in 0.19. Reshape your data either using X.reshape(-1, 1) if your data has a single feature or X.reshape(1, -1) if it contains a single sample.\n",
      "  warnings.warn(DEPRECATION_MSG_1D, DeprecationWarning)\n",
      "C:\\ProgramData\\Anaconda2\\lib\\site-packages\\sklearn\\preprocessing\\data.py:321: DeprecationWarning: Passing 1d arrays as data is deprecated in 0.17 and will raise ValueError in 0.19. Reshape your data either using X.reshape(-1, 1) if your data has a single feature or X.reshape(1, -1) if it contains a single sample.\n",
      "  warnings.warn(DEPRECATION_MSG_1D, DeprecationWarning)\n",
      "C:\\ProgramData\\Anaconda2\\lib\\site-packages\\sklearn\\preprocessing\\data.py:356: DeprecationWarning: Passing 1d arrays as data is deprecated in 0.17 and will raise ValueError in 0.19. Reshape your data either using X.reshape(-1, 1) if your data has a single feature or X.reshape(1, -1) if it contains a single sample.\n",
      "  warnings.warn(DEPRECATION_MSG_1D, DeprecationWarning)\n"
     ]
    }
   ],
   "source": [
    "#print data_df.describe()\n",
    "from sklearn.preprocessing import MinMaxScaler\n",
    "scaler=MinMaxScaler()\n",
    "my_dataset=pd.DataFrame()\n",
    "my_dataset['salary_scalered']=scaler.fit_transform(data_df['salary'])\n",
    "my_dataset['total_payments_scalered']=scaler.fit_transform(data_df['total_payments'])\n",
    "my_dataset['bonus_scalered']=scaler.fit_transform(data_df['bonus'])\n",
    "my_dataset['deferred_income_scalered']=scaler.fit_transform(data_df['deferred_income'])"
   ]
  },
  {
   "cell_type": "code",
   "execution_count": null,
   "metadata": {
    "collapsed": true
   },
   "outputs": [],
   "source": [
    "model_features=['salary_scalered', 'deferral_payments', 'total_payments_scalered', 'bonus_scalered', 'deferred_income_scalered', \n",
    "                'total_stock_value', 'expenses', 'exercised_stock_options','other', 'long_term_incentive', 'restricted_stock',\n",
    "                'to_messages','from_poi_to_this_person', 'from_messages', 'from_this_person_to_poi', 'shared_receipt_with_poi']\n",
    "labels = data_df['poi'].values\n",
    "features = data_df[model_features].values"
   ]
  },
  {
   "cell_type": "markdown",
   "metadata": {},
   "source": [
    "## 4 机器学习"
   ]
  },
  {
   "cell_type": "markdown",
   "metadata": {},
   "source": [
    "SVC"
   ]
  },
  {
   "cell_type": "code",
   "execution_count": null,
   "metadata": {
    "collapsed": false
   },
   "outputs": [],
   "source": [
    "from sklearn.decomposition import PCA\n",
    "from sklearn.pipeline import Pipeline\n",
    "from sklearn.preprocessing import StandardScaler\n",
    "from sklearn.model_selection import StratifiedShuffleSplit\n",
    "from sklearn.model_selection import GridSearchCV\n",
    "from sklearn.svm import SVC\n",
    "\n",
    "pip=Pipeline(steps=[('pca',PCA()),('clf',SVC())])\n",
    "param_grid={'pca__n_components':range(2,11),'clf__kernel':('linear','rbf'),'clf__C':[0.1,1,10]}\n",
    "cv=StratifiedShuffleSplit(n_splits=3,test_size=0.3,random_state=0)\n",
    "grid=GridSearchCV(pip,param_grid=param_grid,cv=cv)\n",
    "grid.fit(features,labels)\n",
    "print grid.best_params_,grid.best_score_"
   ]
  },
  {
   "cell_type": "markdown",
   "metadata": {},
   "source": [
    "逻辑回归"
   ]
  },
  {
   "cell_type": "code",
   "execution_count": null,
   "metadata": {
    "collapsed": false
   },
   "outputs": [],
   "source": [
    "from sklearn.decomposition import PCA\n",
    "from sklearn.pipeline import Pipeline\n",
    "from sklearn.model_selection import StratifiedShuffleSplit\n",
    "from sklearn.linear_model import LogisticRegression\n",
    "from sklearn.preprocessing import StandardScaler\n",
    "from sklearn.model_selection import GridSearchCV\n",
    "\n",
    "pipe=Pipeline(steps=[('pca',PCA()),('clf',LogisticRegression())])\n",
    "param_grid=[{'pca__n_components':range(2,11),'clf__random_state':1}]\n",
    "cv=StratifiedShuffleSplit(n_splits=3,test_size=0.3,random_state=0)\n",
    "grid=GridSearchCV(pipe,param_grid=param_grid,cv=cv)\n",
    "grid.fit(features,labels)\n",
    "print grid.best_params_,grid.best_score_"
   ]
  },
  {
   "cell_type": "markdown",
   "metadata": {
    "collapsed": true
   },
   "source": [
    "GaussianNB"
   ]
  },
  {
   "cell_type": "code",
   "execution_count": null,
   "metadata": {
    "collapsed": false
   },
   "outputs": [],
   "source": [
    "from sklearn.naive_bayes import GaussianNB\n",
    "from sklearn.pipeline import Pipeline\n",
    "from sklearn.decomposition import PCA\n",
    "\n",
    "clf = GaussianNB()\n",
    "pipe = Pipeline(steps=[('pca', PCA()), ('clf', clf)])\n",
    "param_grid = {'pca__n_components': range(2, 11), 'clf__kernel': ('linear', 'rbf')}\n",
    "cv = StratifiedShuffleSplit(n_splits=3, test_size=0.3, random_state=0)\n",
    "grid = GridSearchCV(pipe, param_grid=param_grid, cv=cv)\n",
    "grid.fit(features, labels)\n",
    "print 'GaussianNB'\n",
    "print grid.best_params_, grid.best_score_"
   ]
  }
 ],
 "metadata": {
  "kernelspec": {
   "display_name": "Python 2",
   "language": "python",
   "name": "python2"
  },
  "language_info": {
   "codemirror_mode": {
    "name": "ipython",
    "version": 2
   },
   "file_extension": ".py",
   "mimetype": "text/x-python",
   "name": "python",
   "nbconvert_exporter": "python",
   "pygments_lexer": "ipython2",
   "version": "2.7.13"
  }
 },
 "nbformat": 4,
 "nbformat_minor": 2
}
