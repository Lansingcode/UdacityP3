{
 "cells": [
  {
   "cell_type": "markdown",
   "metadata": {},
   "source": [
    "# 优达学城P3（安然公司邮件数据分析）"
   ]
  },
  {
   "cell_type": "markdown",
   "metadata": {},
   "source": [
    "## 1 数据概况"
   ]
  },
  {
   "cell_type": "markdown",
   "metadata": {},
   "source": [
    "### 1.1 载入数据"
   ]
  },
  {
   "cell_type": "code",
   "execution_count": 1,
   "metadata": {
    "collapsed": false
   },
   "outputs": [],
   "source": [
    "#!/usr/bin/python\n",
    "# -*- coding=utf-8 -*-\n",
    "import sys\n",
    "import pickle\n",
    "\n",
    "sys.path.append(\"../tools/\")\n",
    "\n",
    "from feature_format import featureFormat, targetFeatureSplit\n",
    "from tester import dump_classifier_and_data\n",
    "from tester import test_classifier\n",
    "import pandas as pd\n",
    "import matplotlib.pyplot as plt\n",
    "\n",
    "with open(\"final_project_dataset.pkl\", \"r\") as data_file:\n",
    "    data_dict = pickle.load(data_file)\n",
    "\n",
    "features_list = ['poi', 'salary', 'deferral_payments', 'total_payments', 'loan_advances', 'bonus',\n",
    "                 'restricted_stock_deferred', 'deferred_income', 'total_stock_value', 'expenses',\n",
    "                 'exercised_stock_options', 'other', 'long_term_incentive', 'restricted_stock', 'director_fees',\n",
    "                 'to_messages', 'email_address', 'from_poi_to_this_person', 'from_messages', 'from_this_person_to_poi',\n",
    "                 'shared_receipt_with_poi']  # You will need to use more features\n",
    "my_dataset = data_dict"
   ]
  },
  {
   "cell_type": "markdown",
   "metadata": {},
   "source": [
    "### 1.2 观察空值\n",
    "横向观察数据缺失情况"
   ]
  },
  {
   "cell_type": "code",
   "execution_count": 2,
   "metadata": {
    "collapsed": false
   },
   "outputs": [
    {
     "name": "stdout",
     "output_type": "stream",
     "text": [
      "[('LOCKHART EUGENE E', 20), ('WHALEY DAVID A', 18), ('WROBEL BRUCE', 18), ('THE TRAVEL AGENCY IN THE PARK', 18), ('GRAMM WENDY L', 18), ('WODRASKA JOHN', 17), ('CLINE KENNETH W', 17), ('WAKEHAM JOHN', 17), ('SCRIMSHAW MATTHEW', 17), ('GILLIS JOHN', 17), ('SAVAGE FRANK', 17), ('LOWRY CHARLES P', 16), ('CHAN RONNIE', 16), ('URQUHART JOHN A', 16), ('MENDELSOHN JOHN', 16), ('MEYER JEROME J', 16), ('GATHMANN WILLIAM D', 16), ('PEREIRA PAULO V. FERRAZ', 16), ('BLAKE JR. NORMAN P', 16), ('CHRISTODOULOU DIOMEDES', 16), ('WINOKUR JR. HERBERT S', 16), ('YEAP SOON', 16), ('FUGH JOHN L', 16), ('WALTERS GARETH W', 15), ('DUNCAN JOHN H', 15), ('LEMAISTRE CHARLES', 15), ('GRAY RODNEY', 15), ('NOLES JAMES L', 15), ('BADUM JAMES P', 15), ('BELFER ROBERT', 14), ('PRENTICE JAMES', 14), ('BERBERIAN DAVID', 13), ('BAZELIDES PHILIP J', 13), ('JAEDICKE ROBERT', 13), ('HIRKO JOSEPH', 13), ('MORDAUNT KRISTINA M', 12), ('PIRO JIM', 12), ('LEWIS RICHARD', 12), ('POWERS WILLIAM', 12), ('KISHKILL JOSEPH G', 12), ('SULLIVAN-SHAKLOVITZ COLLEEN', 12), ('CUMBERLAND MICHAEL S', 12), ('STABLER FRANK', 12), ('BROWN MICHAEL', 12), ('YEAGER F SCOTT', 12), ('HAYSLETT RODERICK J', 12), ('CORDES WILLIAM R', 11), ('WESTFAHL RICHARD K', 11), ('KOPPER MICHAEL J', 11), ('GOLD JOSEPH', 11), ('MCCARTY DANNY J', 11), ('MCDONALD REBECCA', 11), ('MORAN MICHAEL P', 11), ('OVERDYKE JR JERE C', 11), ('SHERRICK JEFFREY B', 11), ('FOWLER PEGGY', 11), ('WHITE JR THOMAS E', 11), ('HUGHES JAMES A', 11), ('PAI LOU L', 11), ('ELLIOTT STEVEN', 10), ('UMANOFF ADAM S', 10), ('HAUG DAVID L', 10), ('ECHOLS JOHN B', 10), ('HAYES ROBERT E', 10), ('BUTTS ROBERT H', 10), ('GAHN ROBERT S', 10), ('FASTOW ANDREW S', 10), ('FOY JOE', 10), ('DIMICHELE RICHARD G', 10), ('BAXTER JOHN C', 9), ('MEYER ROCKFORD G', 9), ('HORTON STANLEY C', 9), ('GIBBS DANA R', 9), ('LINDHOLM TOD A', 9), ('HERMANN ROBERT J', 9), ('DODSON KEITH', 9), ('BAY FRANKLIN R', 9), ('HUMPHREY GENE E', 8), ('REDMOND BRIAN L', 8), ('REYNOLDS LAWRENCE', 8), ('BHATNAGAR SANJAY', 8), ('METTS MARK', 7), ('SUNDE MARTIN', 7), ('BECK SALLY W', 7), ('LEFF DANIEL P', 7), ('DETMERING TIMOTHY J', 7), ('PICKERING MARK R', 7), ('TAYLOR MITCHELL S', 7), ('JACKSON CHARLENE R', 6), ('KITCHEN LOUISE', 6), ('HICKERSON GARY J', 6), ('SHAPIRO RICHARD S', 6), ('SHERRIFF JOHN R', 6), ('TOTAL', 6), ('CARTER REBECCA C', 6), ('IZZO LAWRENCE L', 6), ('MARTIN AMANDA K', 6), ('MCMAHON JEFFREY', 5), ('BLACHMAN JEREMY M', 5), ('COLWELL WESLEY', 5), ('WALLS JR ROBERT H', 5), ('SHANKMAN JEFFREY A', 5), ('BERGSIEKER RICHARD P', 5), ('BIBI PHILIPPE A', 5), ('LAVORATO JOHN J', 5), ('BANNANTINE JAMES M', 5), ('SHELBY REX', 5), ('DEFFNER JOSEPH M', 5), ('WHALLEY LAWRENCE G', 5), ('MCCONNELL MICHAEL S', 5), ('DELAINEY DAVID W', 5), ('MCCLELLAN GEORGE', 5), ('BOWEN JR RAYMOND M', 5), ('FITZGERALD JAY L', 5), ('DURAN WILLIAM D', 5), ('THORN TERENCE H', 5), ('CALGER CHRISTOPHER F', 5), ('KAMINSKI WINCENTY J', 5), ('COX DAVID', 5), ('SKILLING JEFFREY K', 5), ('KEAN STEVEN J', 5), ('BUCHANAN HAROLD G', 5), ('MURRAY JULIA H', 5), ('GARLAND C KEVIN', 5), ('DIETRICH JANET R', 5), ('FALLON JAMES B', 5), ('KOENIG MARK E', 5), ('TILNEY ELIZABETH A', 5), ('CAUSEY RICHARD A', 5), ('DONAHUE JR JEFFREY M', 5), ('GLISAN JR BEN F', 5), ('HANNON KEVIN P', 4), ('MULLER MARK S', 4), ('RIEKER PAULA H', 4), ('OLSON CINDY K', 4), ('BELDEN TIMOTHY N', 4), ('RICE KENNETH D', 4), ('WASAFF GEORGE', 4), ('SHARP VICTORIA T', 4), ('BUY RICHARD B', 4), ('PIPER GREGORY F', 3), ('DERRICK JR. JAMES V', 3), ('LAY KENNETH L', 2), ('HAEDICKE MARK E', 2), ('ALLEN PHILLIP K', 2), ('FREVERT MARK A', 2)]\n"
     ]
    }
   ],
   "source": [
    "data_df = pd.DataFrame(data_dict)\n",
    "people=data_df.columns\n",
    "nandict={}\n",
    "for p in people:\n",
    "    if 'NaN' in data_df[p].unique():\n",
    "        nandict[p]=data_df[p].value_counts()['NaN']\n",
    "print sorted(nandict.items(), lambda x, y: cmp(x[1], y[1]), reverse=True)\n",
    "data_df.drop('LOCKHART EUGENE E',axis=1,inplace=True)"
   ]
  },
  {
   "cell_type": "markdown",
   "metadata": {},
   "source": [
    "LOCKHART EUGENE E所有特征都为空，删除该数据。"
   ]
  },
  {
   "cell_type": "markdown",
   "metadata": {},
   "source": [
    "纵向观察数据空值情况"
   ]
  },
  {
   "cell_type": "code",
   "execution_count": 3,
   "metadata": {
    "collapsed": false
   },
   "outputs": [
    {
     "name": "stdout",
     "output_type": "stream",
     "text": [
      "There are 50 null values in salary\n",
      "There are 106 null values in deferral_payments\n",
      "There are 20 null values in total_payments\n",
      "There are 141 null values in loan_advances\n",
      "There are 63 null values in bonus\n",
      "There are 127 null values in restricted_stock_deferred\n",
      "There are 96 null values in deferred_income\n",
      "There are 19 null values in total_stock_value\n",
      "There are 50 null values in expenses\n",
      "There are 43 null values in exercised_stock_options\n",
      "There are 52 null values in other\n",
      "There are 79 null values in long_term_incentive\n",
      "There are 35 null values in restricted_stock\n",
      "There are 128 null values in director_fees\n",
      "There are 59 null values in to_messages\n",
      "There are 34 null values in email_address\n",
      "There are 59 null values in from_poi_to_this_person\n",
      "There are 59 null values in from_messages\n",
      "There are 59 null values in from_this_person_to_poi\n",
      "There are 59 null values in shared_receipt_with_poi\n"
     ]
    }
   ],
   "source": [
    "data_df = data_df.T\n",
    "data_df = data_df[features_list]\n",
    "for f in features_list:\n",
    "    if 'NaN' in data_df[f].unique():\n",
    "        print 'There are %s null values in %s' % (str(data_df[f].value_counts()['NaN']), f)"
   ]
  },
  {
   "cell_type": "markdown",
   "metadata": {},
   "source": [
    "deferral_payments、loan_advances、restricted_stock_deferred、director_fees四个变量空值较多，可以忽略；email_address这个变量为字符型变量，无法进行计算，也可忽略。将其他变量的空值用0替换。\n",
    "### 1.3 转换为DataFrame格式  \n",
    "在DataFrame中填充空值为0"
   ]
  },
  {
   "cell_type": "code",
   "execution_count": 4,
   "metadata": {
    "collapsed": false
   },
   "outputs": [],
   "source": [
    "data_df=data_df[features_list]\n",
    "data_df.replace({'NaN': 0}, inplace=True)"
   ]
  },
  {
   "cell_type": "markdown",
   "metadata": {},
   "source": [
    "## 2 去除异常值"
   ]
  },
  {
   "cell_type": "code",
   "execution_count": 5,
   "metadata": {
    "collapsed": false
   },
   "outputs": [
    {
     "data": {
      "image/png": "[encoded data removed]",
      "text/plain": [
       "<matplotlib.figure.Figure at 0x1adf96a0>"
      ]
     },
     "metadata": {},
     "output_type": "display_data"
    }
   ],
   "source": [
    "plt.plot(list(data_df['salary'].values))\n",
    "data_df = data_df[data_df['salary'] < 2e7]#删除异常值所在数据行\n",
    "plt.plot(list(data_df['salary'].values))\n",
    "plt.show()"
   ]
  },
  {
   "cell_type": "code",
   "execution_count": 6,
   "metadata": {
    "collapsed": false
   },
   "outputs": [
    {
     "data": {
      "image/png": "[encoded data removed]",
      "text/plain": [
       "<matplotlib.figure.Figure at 0x1adf9b00>"
      ]
     },
     "metadata": {},
     "output_type": "display_data"
    }
   ],
   "source": [
    "plt.plot(list(data_df['total_payments'].values))\n",
    "data_df = data_df[data_df['total_payments'] < 1e8]#删除异常值所在数据行\n",
    "plt.plot(list(data_df['total_payments'].values))\n",
    "plt.show()"
   ]
  },
  {
   "cell_type": "markdown",
   "metadata": {},
   "source": [
    "变量分布"
   ]
  },
  {
   "cell_type": "code",
   "execution_count": 7,
   "metadata": {
    "collapsed": false
   },
   "outputs": [
    {
     "data": {
      "image/png": "[encoded data removed]",
      "text/plain": [
       "<matplotlib.figure.Figure at 0x34c4630>"
      ]
     },
     "metadata": {},
     "output_type": "display_data"
    },
    {
     "data": {
      "image/png": "[encoded data removed]",
      "text/plain": [
       "<matplotlib.figure.Figure at 0x1b4892e8>"
      ]
     },
     "metadata": {},
     "output_type": "display_data"
    }
   ],
   "source": [
    "import numpy as np\n",
    "import matplotlib.pyplot as plt\n",
    "def make_hist(data,feature_name,bins):\n",
    "    min_data=data[feature_name].values.min()\n",
    "    max_data=data_df[feature_name].values.max()\n",
    "    hist,bin_edges=np.histogram(data[feature_name].values,bins=np.linspace(min_data,max_data,bins))\n",
    "    plt.bar(bin_edges[:-1],hist,width=float(max_data-min_data)/bins)\n",
    "    plt.xlabel(feature_name)\n",
    "    plt.ylabel('Count')\n",
    "    plt.show()\n",
    "make_hist(data_df,'salary',10)\n",
    "make_hist(data_df,'deferred_income',10)"
   ]
  },
  {
   "cell_type": "code",
   "execution_count": 8,
   "metadata": {
    "collapsed": false
   },
   "outputs": [
    {
     "name": "stdout",
     "output_type": "stream",
     "text": [
      "count       143\n",
      "unique        2\n",
      "top       False\n",
      "freq        126\n",
      "Name: poi, dtype: object\n"
     ]
    }
   ],
   "source": [
    "print data_df['poi'].describe()"
   ]
  },
  {
   "cell_type": "markdown",
   "metadata": {},
   "source": [
    "去除异常值和空值以后，共有143条数据，其中poi为True有17个，poi为False有126个。可以看出数据分布不均衡，正样本占比为11.89%，因此在建模和交叉验证阶段要使用分层抽样，模型评价中，要选择recall和precision或f1score。"
   ]
  },
  {
   "cell_type": "markdown",
   "metadata": {},
   "source": [
    "## 3 设计新特征  \n",
    "从原有特征中演变出两个新的变量，最终使用了17个特征"
   ]
  },
  {
   "cell_type": "code",
   "execution_count": 9,
   "metadata": {
    "collapsed": false
   },
   "outputs": [],
   "source": [
    "#print data_df.describe()\n",
    "data_df['from_poi_ratio'] = (data_df['from_poi_to_this_person'] / data_df['to_messages']).fillna(0)\n",
    "data_df['to_poi_ratio'] = (data_df['from_this_person_to_poi'] / data_df['from_messages']).fillna(0)"
   ]
  },
  {
   "cell_type": "code",
   "execution_count": 10,
   "metadata": {
    "collapsed": true
   },
   "outputs": [],
   "source": [
    "my_features = ['poi', 'salary', 'total_payments', 'bonus', 'deferred_income', 'total_stock_value',\n",
    "               'expenses', 'exercised_stock_options', 'other',\n",
    "               'long_term_incentive', 'restricted_stock', 'to_messages', 'from_poi_to_this_person', 'from_messages',\n",
    "               'from_this_person_to_poi', 'shared_receipt_with_poi', 'from_poi_ratio', 'to_poi_ratio']\n",
    "labels = data_df[my_features[0]].values\n",
    "features = data_df[my_features[1:]].values"
   ]
  },
  {
   "cell_type": "markdown",
   "metadata": {},
   "source": [
    "## 4 尝试算法  \n",
    "使用SelectKBest挑选变量，并得出每个变量的得分,根据重要性得分挑选最终变量。"
   ]
  },
  {
   "cell_type": "code",
   "execution_count": 11,
   "metadata": {
    "collapsed": false
   },
   "outputs": [
    {
     "name": "stdout",
     "output_type": "stream",
     "text": [
      "['salary', 'total_payments', 'bonus', 'deferred_income', 'total_stock_value', 'expenses', 'exercised_stock_options', 'other', 'long_term_incentive', 'restricted_stock', 'to_messages', 'from_poi_to_this_person', 'from_messages', 'from_this_person_to_poi', 'shared_receipt_with_poi', 'from_poi_ratio', 'to_poi_ratio']\n",
      "[  1.23815616e+01   1.74217130e+00   1.39542854e+01   1.18497814e+01\n",
      "   1.63125076e+01   4.97016273e+00   1.68003518e+01   6.53156972e-03\n",
      "   5.23275955e+00   3.31485544e+00   1.05638708e+00   4.42830698e+00\n",
      "   1.31732482e-01   2.61649395e+00   7.08626103e+00   3.21442217e+00\n",
      "   1.40800024e+01]\n"
     ]
    }
   ],
   "source": [
    "from sklearn.naive_bayes import GaussianNB\n",
    "from sklearn.svm import SVC\n",
    "from sklearn.linear_model import LogisticRegression\n",
    "from sklearn.pipeline import Pipeline\n",
    "from sklearn.decomposition import PCA\n",
    "from sklearn.preprocessing import StandardScaler\n",
    "from sklearn.model_selection import StratifiedShuffleSplit\n",
    "from sklearn.model_selection import GridSearchCV\n",
    "from sklearn.feature_selection import SelectKBest\n",
    "\n",
    "scaler = StandardScaler()\n",
    "\n",
    "data_select=SelectKBest(k=10).fit(features,labels)\n",
    "print my_features[1:]\n",
    "print data_select.scores_"
   ]
  },
  {
   "cell_type": "markdown",
   "metadata": {},
   "source": [
    "从中可以看出other、from_messages这两个变量的重要性相对较低，剔除这两个变量。"
   ]
  },
  {
   "cell_type": "code",
   "execution_count": 12,
   "metadata": {
    "collapsed": true
   },
   "outputs": [],
   "source": [
    "my_features = ['poi', 'salary', 'total_payments', 'bonus', 'deferred_income', 'total_stock_value',\n",
    "               'expenses', 'exercised_stock_options',\n",
    "               'long_term_incentive', 'restricted_stock', 'to_messages', 'from_poi_to_this_person',\n",
    "               'from_this_person_to_poi', 'shared_receipt_with_poi', 'from_poi_ratio', 'to_poi_ratio']"
   ]
  },
  {
   "cell_type": "markdown",
   "metadata": {},
   "source": [
    "朴素贝叶斯"
   ]
  },
  {
   "cell_type": "code",
   "execution_count": 13,
   "metadata": {
    "collapsed": false
   },
   "outputs": [
    {
     "name": "stdout",
     "output_type": "stream",
     "text": [
      "Pipeline(steps=[('scaler', StandardScaler(copy=True, with_mean=True, with_std=True)), ('skb', SelectKBest(k=10, score_func=<function f_classif at 0x000000001AF433C8>)), ('clf', GaussianNB(priors=None))])\n",
      "\tAccuracy: 0.80613\tPrecision: 0.28215\tRecall: 0.29400\tF1: 0.28795\tF2: 0.29155\n",
      "\tTotal predictions: 15000\tTrue positives:  588\tFalse positives: 1496\tFalse negatives: 1412\tTrue negatives: 11504\n",
      "\n"
     ]
    }
   ],
   "source": [
    "#pipe_gnb = Pipeline(steps=[('scaler', scaler), ('pca', PCA()), ('clf', GaussianNB())])\n",
    "pipe_gnb = Pipeline(steps=[('scaler', scaler), ('skb', SelectKBest()), ('clf', GaussianNB())])\n",
    "test_classifier(pipe_gnb, labels, features, my_features)"
   ]
  },
  {
   "cell_type": "markdown",
   "metadata": {},
   "source": [
    "在没有调整任何参数情况下，朴素贝叶斯的预测情况为accuracy为80.6%，precision=28.215%,recall=29.4%,f1=28.795%"
   ]
  },
  {
   "cell_type": "markdown",
   "metadata": {},
   "source": [
    "SVC"
   ]
  },
  {
   "cell_type": "code",
   "execution_count": 15,
   "metadata": {
    "collapsed": false
   },
   "outputs": [
    {
     "name": "stdout",
     "output_type": "stream",
     "text": [
      "Got a divide by zero when trying out: Pipeline(steps=[('scaler', StandardScaler(copy=True, with_mean=True, with_std=True)), ('pca', PCA(copy=True, iterated_power='auto', n_components=None, random_state=None,\n",
      "  svd_solver='auto', tol=0.0, whiten=False)), ('clf', SVC(C=1.0, cache_size=200, class_weight=None, coef0=0.0,\n",
      "  decision_function_shape=None, degree=3, gamma='auto', kernel='rbf',\n",
      "  max_iter=-1, probability=False, random_state=None, shrinking=True,\n",
      "  tol=0.001, verbose=False))])\n",
      "Precision or recall may be undefined due to a lack of true positive predicitons.\n"
     ]
    }
   ],
   "source": [
    "# SVC\n",
    "pipe_svc = Pipeline(steps=[('scaler', scaler), ('pca', PCA()), ('clf', SVC())])\n",
    "test_classifier(pipe_svc, labels, features, my_features)"
   ]
  },
  {
   "cell_type": "markdown",
   "metadata": {
    "collapsed": true
   },
   "source": [
    "逻辑回归"
   ]
  },
  {
   "cell_type": "code",
   "execution_count": 16,
   "metadata": {
    "collapsed": false
   },
   "outputs": [
    {
     "name": "stdout",
     "output_type": "stream",
     "text": [
      "Pipeline(steps=[('scaler', StandardScaler(copy=True, with_mean=True, with_std=True)), ('pca', PCA(copy=True, iterated_power='auto', n_components=None, random_state=None,\n",
      "  svd_solver='auto', tol=0.0, whiten=False)), ('clf', LogisticRegression(C=1.0, class_weight=None, dual=False, fit_intercept=True,\n",
      "          intercept_scaling=1, max_iter=100, multi_class='ovr', n_jobs=1,\n",
      "          penalty='l2', random_state=None, solver='liblinear', tol=0.0001,\n",
      "          verbose=0, warm_start=False))])\n",
      "\tAccuracy: 0.84047\tPrecision: 0.30978\tRecall: 0.16000\tF1: 0.21101\tF2: 0.17713\n",
      "\tTotal predictions: 15000\tTrue positives:  320\tFalse positives:  713\tFalse negatives: 1680\tTrue negatives: 12287\n",
      "\n"
     ]
    }
   ],
   "source": [
    "# 逻辑回归\n",
    "pipe_lr = Pipeline(steps=[('scaler', scaler), ('pca', PCA()), ('clf', LogisticRegression())])\n",
    "test_classifier(pipe_lr, labels, features, my_features)"
   ]
  },
  {
   "cell_type": "markdown",
   "metadata": {},
   "source": [
    "在没有调整任何参数情况下，朴素贝叶斯的预测情况为accuracy为84.047%，precision=30.978%,recall=16%,f1=21.1%"
   ]
  },
  {
   "cell_type": "markdown",
   "metadata": {},
   "source": [
    "## 5 优化模型"
   ]
  },
  {
   "cell_type": "markdown",
   "metadata": {},
   "source": [
    "朴素贝叶斯  \n",
    "使用SelectKBest挑选出最优特征进入模型"
   ]
  },
  {
   "cell_type": "code",
   "execution_count": 14,
   "metadata": {
    "collapsed": false
   },
   "outputs": [
    {
     "name": "stdout",
     "output_type": "stream",
     "text": [
      "GaussianNB:\n",
      "{'skb__k': 11} 0.825174825175\n",
      "Pipeline(steps=[('skb', SelectKBest(k=11, score_func=<function f_classif at 0x000000001AF433C8>)), ('clf', GaussianNB(priors=None))])\n",
      "\tAccuracy: 0.83647\tPrecision: 0.37239\tRecall: 0.33050\tF1: 0.35020\tF2: 0.33811\n",
      "\tTotal predictions: 15000\tTrue positives:  661\tFalse positives: 1114\tFalse negatives: 1339\tTrue negatives: 11886\n",
      "\n"
     ]
    }
   ],
   "source": [
    "print 'GaussianNB:'\n",
    "pipe_gnb = Pipeline(steps=[('skb', SelectKBest()), ('clf', GaussianNB())])\n",
    "param_grid = {'skb__k': range(10, 15)}\n",
    "gs = GridSearchCV(pipe_gnb, param_grid=param_grid)\n",
    "gs.fit(features, labels)\n",
    "print gs.best_params_, gs.best_score_\n",
    "\n",
    "pipe_gnb.set_params(skb__k=gs.best_params_['skb__k'])\n",
    "test_classifier(pipe_gnb, labels, features, my_features)"
   ]
  },
  {
   "cell_type": "markdown",
   "metadata": {},
   "source": [
    "最优参数为11个变量，最终的结果accuracy为82.5%，precision=37.239%,recall=33.05%,f1=35.02%"
   ]
  },
  {
   "cell_type": "markdown",
   "metadata": {},
   "source": [
    "SVC"
   ]
  },
  {
   "cell_type": "code",
   "execution_count": 15,
   "metadata": {
    "collapsed": false
   },
   "outputs": [
    {
     "name": "stdout",
     "output_type": "stream",
     "text": [
      "{'pca__n_components': 8, 'clf__C': 0.1, 'clf__kernel': 'linear'} 0.888372093023\n",
      "Pipeline(steps=[('scaler', StandardScaler(copy=True, with_mean=True, with_std=True)), ('pca', PCA(copy=True, iterated_power='auto', n_components=2, random_state=None,\n",
      "  svd_solver='auto', tol=0.0, whiten=False)), ('clf', SVC(C=1.0, cache_size=200, class_weight=None, coef0=0.0,\n",
      "  decision_function_shape=None, degree=3, gamma='auto', kernel='rbf',\n",
      "  max_iter=-1, probability=False, random_state=None, shrinking=True,\n",
      "  tol=0.001, verbose=False))])\n",
      "\tAccuracy: 0.86400\tPrecision: 0.08333\tRecall: 0.00200\tF1: 0.00391\tF2: 0.00249\n",
      "\tTotal predictions: 15000\tTrue positives:    4\tFalse positives:   44\tFalse negatives: 1996\tTrue negatives: 12956\n",
      "\n"
     ]
    }
   ],
   "source": [
    "print 'SVC:'\n",
    "pipe_svc = Pipeline(steps=[('scaler', scaler), ('pca', PCA()), ('clf', SVC())])\n",
    "param_grid = {'pca__n_components': range(1,10), 'clf__kernel': ['linear', 'rbf'], 'clf__C': [0.1, 1, 10]}\n",
    "cv = StratifiedShuffleSplit(n_splits=5, test_size=0.3, random_state=0)\n",
    "gs = GridSearchCV(pipe_svc, param_grid=param_grid, cv=cv)\n",
    "gs.fit(features, labels)\n",
    "print gs.best_params_, gs.best_score_\n",
    "\n",
    "pipe_svc.set_params(pca__n_components=2)\n",
    "test_classifier(pipe_svc, labels, features, my_features)"
   ]
  },
  {
   "cell_type": "markdown",
   "metadata": {},
   "source": [
    "逻辑回归"
   ]
  },
  {
   "cell_type": "code",
   "execution_count": 17,
   "metadata": {
    "collapsed": false
   },
   "outputs": [
    {
     "name": "stdout",
     "output_type": "stream",
     "text": [
      "LogisticRegression:\n",
      "{'pca__n_components': 1} 0.86976744186\n",
      "Pipeline(steps=[('scaler', StandardScaler(copy=True, with_mean=True, with_std=True)), ('pca', PCA(copy=True, iterated_power='auto', n_components=None, random_state=None,\n",
      "  svd_solver='auto', tol=0.0, whiten=False)), ('clf', LogisticRegression(C=1.0, class_weight=None, dual=False, fit_intercept=True,\n",
      "          intercept_scaling=1, max_iter=100, multi_class='ovr', n_jobs=1,\n",
      "          penalty='l2', random_state=None, solver='liblinear', tol=0.0001,\n",
      "          verbose=0, warm_start=False))])\n",
      "\tAccuracy: 0.84047\tPrecision: 0.30978\tRecall: 0.16000\tF1: 0.21101\tF2: 0.17713\n",
      "\tTotal predictions: 15000\tTrue positives:  320\tFalse positives:  713\tFalse negatives: 1680\tTrue negatives: 12287\n",
      "\n"
     ]
    }
   ],
   "source": [
    "print 'LogisticRegression:'\n",
    "pipe_lr = Pipeline(steps=[('scaler', scaler), ('pca', PCA()), ('clf', LogisticRegression())])\n",
    "param_grid = [{'pca__n_components': range(1, 10)}]\n",
    "cv = StratifiedShuffleSplit(n_splits=5, test_size=0.3, random_state=0)\n",
    "gs = GridSearchCV(pipe_lr, param_grid=param_grid, cv=cv)\n",
    "gs.fit(features, labels)\n",
    "\n",
    "print gs.best_params_, gs.best_score_\n",
    "\n",
    "pipe_svc.set_params(pca__n_components=6)\n",
    "test_classifier(pipe_lr, labels, features, my_features)"
   ]
  },
  {
   "cell_type": "markdown",
   "metadata": {},
   "source": [
    "最优参数为PCA聚类成1个变量，最终的结果accuracy为84.047%，precision=30.978%,recall=16%,f1=21.1%"
   ]
  },
  {
   "cell_type": "markdown",
   "metadata": {},
   "source": [
    "由于该数据集存在较大不平衡性，因此在模型评估中使用了分层抽样，最终选取precision和recall较高的算法为最好结果，从以上结果比较可以看出，GaussianNB算法的结果最好。"
   ]
  },
  {
   "cell_type": "code",
   "execution_count": 17,
   "metadata": {
    "collapsed": false
   },
   "outputs": [],
   "source": [
    "dump_classifier_and_data(pipe_gnb, my_dataset, features_list)"
   ]
  }
 ],
 "metadata": {
  "kernelspec": {
   "display_name": "Python 2",
   "language": "python",
   "name": "python2"
  },
  "language_info": {
   "codemirror_mode": {
    "name": "ipython",
    "version": 2
   },
   "file_extension": ".py",
   "mimetype": "text/x-python",
   "name": "python",
   "nbconvert_exporter": "python",
   "pygments_lexer": "ipython2",
   "version": "2.7.13"
  }
 },
 "nbformat": 4,
 "nbformat_minor": 2
}
